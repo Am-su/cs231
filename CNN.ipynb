{
 "cells": [
  {
   "cell_type": "code",
   "execution_count": 59,
   "id": "6b1fc058",
   "metadata": {},
   "outputs": [],
   "source": [
    "import numpy as np\n",
    "from dataset.mnist import load_mnist\n",
    "import sys\n",
    "np.set_printoptions(threshold=sys.maxsize)"
   ]
  },
  {
   "cell_type": "markdown",
   "id": "88e4a47e",
   "metadata": {},
   "source": [
    "# im2col method"
   ]
  },
  {
   "cell_type": "markdown",
   "id": "2f454443",
   "metadata": {},
   "source": [
    "입력 받은 이미지를 2차원 배열로 변환"
   ]
  },
  {
   "cell_type": "code",
   "execution_count": 75,
   "id": "71353391",
   "metadata": {},
   "outputs": [],
   "source": [
    "def im2col(input_data, filter_h, filter_w, stride=1,pad=0):\n",
    "    \"\"\"\n",
    "    파라미터\n",
    "    input_data : 4차원 배열(이미지수, 채널수, 높이, 너비)\n",
    "    filter_h : 필터의 높이\n",
    "    filter_w : 필터의 너비\n",
    "    stride : 스트라이드\n",
    "    pad : 패딩\n",
    "    \"\"\"\n",
    "    \n",
    "    N,C,H,W = input_data.shape\n",
    "    out_h = (H + 2*pad - filter_h)//stride+1\n",
    "    out_w = (W + 2*pad - filter_w)//stride+1\n",
    "\n",
    "    img = np.pad(input_data, [(0,0),(0,0),(pad,pad),(pad,pad)],'constant')\n",
    "    col = np.zeros((N,C,filter_h, filter_w, out_h, out_w))\n",
    "    \n",
    "    for y in range(filter_h):\n",
    "        y_max = y + stride*out_h\n",
    "        for x in range(filter_w):\n",
    "            x_max = x + stride*out_w\n",
    "            col[:,:,y,x,:,:] = img[:, :, y:y_max:stride, x:x_max:stride]\n",
    "            \n",
    "    col = col.transpose(0,4,5,1,2,3).reshape(N*out_h * out_w, -1)\n",
    "    return col"
   ]
  },
  {
   "cell_type": "markdown",
   "id": "a410e5bd",
   "metadata": {},
   "source": [
    "# col2im method"
   ]
  },
  {
   "cell_type": "code",
   "execution_count": 5,
   "id": "f598398d",
   "metadata": {},
   "outputs": [],
   "source": [
    "def col2im(col, input_shape, filter_h, filter_w, stride=1, pad=0):\n",
    "    \"\"\"\n",
    "    파라미터\n",
    "    col : 2차원배열\n",
    "    input_shape : 원래 이미지 데이터의 형상\n",
    "    filter_h : 필터의 높이\n",
    "    filter_w : 필터의 너비\n",
    "    stride : 스트라이드\n",
    "    pad : 패딩\n",
    "    \"\"\"\n",
    "    \n",
    "    N,C,H,W = input_shape\n",
    "    out_h = (H + 2*pad - filter_h)//stride + 1\n",
    "    out_w = (W + 2*pad - filter_w)//stride + 1\n",
    "    \n",
    "    col = col.reshape(N,out_h, out_w, C,filter_h,filter_w).transpose(0,3,4,5,1,2)\n",
    "    img = np.zeros((N,C, H + 2*pad + stride-1,W + 2*pad + stride-1))\n",
    "    \n",
    "    for y in range(filter_h):\n",
    "        y_max = y + stride*out_h\n",
    "        for x in range(filter_w):\n",
    "            x_max = x + stride*out_w\n",
    "            col[:,:,y,x,:,:] = img[:, :, y:y_max:stride, x:x_max:stride]\n",
    "            \n",
    "    return img[:,:,pad:pad+H,pad:pad+W]"
   ]
  },
  {
   "cell_type": "markdown",
   "id": "0ffed600",
   "metadata": {},
   "source": [
    "# Conv2D layer"
   ]
  },
  {
   "cell_type": "code",
   "execution_count": 7,
   "id": "b4932afb",
   "metadata": {},
   "outputs": [],
   "source": [
    "class Convolution:\n",
    "    def __init__(self, W, b, stride=1, pad=0):\n",
    "        self.W = W\n",
    "        self.b = b\n",
    "        self.stride = stride\n",
    "        self.pad = pad\n",
    "        \n",
    "    def forward(self,x):\n",
    "        FN, C, FH, FW = self.W.shape\n",
    "        \"\"\"\n",
    "        FN : 필터의 개수\n",
    "        C : 필터의 깊이\n",
    "        FH : 필터의 높이\n",
    "        FW : 필터의 너비\n",
    "        \"\"\"\n",
    "        \n",
    "        N, C, H, W = x.shape\n",
    "        \"\"\"\n",
    "        N : 입력 데이터의 개수\n",
    "        C : 입력 데이터의 깊이\n",
    "        H : 입력 데이터의 높이\n",
    "        W : 입력 데이터의 너비\n",
    "        \"\"\"\n",
    "        \n",
    "        \n",
    "        out_h = (H + 2*self.pad - FH)//self.stride + 1\n",
    "        out_w = (H + 2*self.pad - FW)//self.stride + 1\n",
    "        \n",
    "        col = im2col(x, FH, FW, self.stride, self.pad)\n",
    "        col_W = self.W.reshape(FN, -1).T\n",
    "        \n",
    "        out = np.dot(col,col_W) + self.b\n",
    "        \n",
    "        out = out.reshape(N, out_h,out_w,-1).transpose(0,3,1,2)\n",
    "        \n",
    "        return out"
   ]
  },
  {
   "cell_type": "markdown",
   "id": "1ea29f5d",
   "metadata": {},
   "source": [
    "# Pooling layer"
   ]
  },
  {
   "cell_type": "code",
   "execution_count": 8,
   "id": "2f715db5",
   "metadata": {},
   "outputs": [],
   "source": [
    "class Pooling:\n",
    "    def __init__(self, pool_h, pool_w, stride=1, pad=0):\n",
    "        self.pool_h = pool_h\n",
    "        self.pool_w = pool_w\n",
    "        self.stride = stride\n",
    "        self.pad = pad\n",
    "        \n",
    "    def forward(self,x):\n",
    "        N,C,H,W = x.shape\n",
    "        out_h = (H-self.pool_h) // self.stride + 1\n",
    "        out_w = (H-self.pool_w) // self.stride + 1\n",
    "        \n",
    "        col = im2col(x,self.pool_h, self.pool_w,self.stride, self.pad)\n",
    "        out = np.max(col,axis=1)\n",
    "        col = col.reshape(-1,self.pool_h * self.pool_w)\n",
    "        out = out.reshape(N,out_h,out_w,C).transpose(0,3,1,2)\n",
    "        \n",
    "        return out"
   ]
  },
  {
   "cell_type": "markdown",
   "id": "53ae8671",
   "metadata": {},
   "source": [
    "# Flatten layer"
   ]
  },
  {
   "cell_type": "code",
   "execution_count": 9,
   "id": "3f6085b8",
   "metadata": {},
   "outputs": [],
   "source": [
    "class Flatten:\n",
    "    def __init__(self, x):\n",
    "        self._shape = ()\n",
    "        \n",
    "    def forward(self,prev):\n",
    "        self._shape = prev.shape\n",
    "        return np.ravel(prev).reshape(prev.shape[0],-1)"
   ]
  },
  {
   "cell_type": "markdown",
   "id": "f2719ef7",
   "metadata": {},
   "source": [
    "### 이미지값 생성"
   ]
  },
  {
   "cell_type": "code",
   "execution_count": 77,
   "id": "c702eed9",
   "metadata": {
    "scrolled": false
   },
   "outputs": [
    {
     "name": "stdout",
     "output_type": "stream",
     "text": [
      "[[[[0.8624802  0.4237964  0.40930859 0.17589646 0.29971498 0.86416746\n",
      "    0.04815052 0.66181075]\n",
      "   [0.05338908 0.3669698  0.37207691 0.82215844 0.52263086 0.59655656\n",
      "    0.31322287 0.02934578]\n",
      "   [0.86376853 0.99019456 0.26679653 0.97749604 0.8854396  0.91710142\n",
      "    0.12305989 0.24030879]\n",
      "   [0.67939017 0.27623327 0.88779469 0.70786682 0.40738597 0.31880154\n",
      "    0.62366982 0.52629316]\n",
      "   [0.19861288 0.20548148 0.67177928 0.72766764 0.86794151 0.94940576\n",
      "    0.57408924 0.34056771]\n",
      "   [0.16043901 0.02841533 0.20803795 0.16396695 0.28622979 0.04422877\n",
      "    0.46578606 0.28088837]\n",
      "   [0.58138855 0.68392959 0.34952271 0.94532829 0.9134112  0.14910784\n",
      "    0.0327075  0.70354008]\n",
      "   [0.13989748 0.51181935 0.06181297 0.29707818 0.53505348 0.99826314\n",
      "    0.12847647 0.12801574]]]] \n",
      "\n",
      "(1, 1, 8, 8)\n",
      "(1, 8, 8)\n",
      "[[0.8624802  0.4237964  0.40930859 0.17589646 0.29971498 0.86416746\n",
      "  0.04815052 0.66181075]\n",
      " [0.05338908 0.3669698  0.37207691 0.82215844 0.52263086 0.59655656\n",
      "  0.31322287 0.02934578]\n",
      " [0.86376853 0.99019456 0.26679653 0.97749604 0.8854396  0.91710142\n",
      "  0.12305989 0.24030879]\n",
      " [0.67939017 0.27623327 0.88779469 0.70786682 0.40738597 0.31880154\n",
      "  0.62366982 0.52629316]\n",
      " [0.19861288 0.20548148 0.67177928 0.72766764 0.86794151 0.94940576\n",
      "  0.57408924 0.34056771]\n",
      " [0.16043901 0.02841533 0.20803795 0.16396695 0.28622979 0.04422877\n",
      "  0.46578606 0.28088837]\n",
      " [0.58138855 0.68392959 0.34952271 0.94532829 0.9134112  0.14910784\n",
      "  0.0327075  0.70354008]\n",
      " [0.13989748 0.51181935 0.06181297 0.29707818 0.53505348 0.99826314\n",
      "  0.12847647 0.12801574]]\n"
     ]
    }
   ],
   "source": [
    "X = np.random.rand(1,1,8,8)\n",
    "print(X,\"\\n\")\n",
    "print(X.shape)\n",
    "print(X[0].shape)\n",
    "print(X[0][0])"
   ]
  },
  {
   "cell_type": "code",
   "execution_count": 78,
   "id": "840c364e",
   "metadata": {},
   "outputs": [
    {
     "data": {
      "text/plain": [
       "1"
      ]
     },
     "execution_count": 78,
     "metadata": {},
     "output_type": "execute_result"
    }
   ],
   "source": [
    "X.shape[0]"
   ]
  },
  {
   "cell_type": "markdown",
   "id": "0bcaa577",
   "metadata": {},
   "source": [
    "### filter 생성"
   ]
  },
  {
   "cell_type": "code",
   "execution_count": 81,
   "id": "17ed864f",
   "metadata": {
    "scrolled": true
   },
   "outputs": [
    {
     "name": "stdout",
     "output_type": "stream",
     "text": [
      "[[0.8624802  0.4237964  0.05338908 0.3669698 ]\n",
      " [0.4237964  0.40930859 0.3669698  0.37207691]\n",
      " [0.40930859 0.17589646 0.37207691 0.82215844]\n",
      " [0.17589646 0.29971498 0.82215844 0.52263086]\n",
      " [0.29971498 0.86416746 0.52263086 0.59655656]\n",
      " [0.86416746 0.04815052 0.59655656 0.31322287]\n",
      " [0.04815052 0.66181075 0.31322287 0.02934578]\n",
      " [0.05338908 0.3669698  0.86376853 0.99019456]\n",
      " [0.3669698  0.37207691 0.99019456 0.26679653]\n",
      " [0.37207691 0.82215844 0.26679653 0.97749604]\n",
      " [0.82215844 0.52263086 0.97749604 0.8854396 ]\n",
      " [0.52263086 0.59655656 0.8854396  0.91710142]\n",
      " [0.59655656 0.31322287 0.91710142 0.12305989]\n",
      " [0.31322287 0.02934578 0.12305989 0.24030879]\n",
      " [0.86376853 0.99019456 0.67939017 0.27623327]\n",
      " [0.99019456 0.26679653 0.27623327 0.88779469]\n",
      " [0.26679653 0.97749604 0.88779469 0.70786682]\n",
      " [0.97749604 0.8854396  0.70786682 0.40738597]\n",
      " [0.8854396  0.91710142 0.40738597 0.31880154]\n",
      " [0.91710142 0.12305989 0.31880154 0.62366982]\n",
      " [0.12305989 0.24030879 0.62366982 0.52629316]\n",
      " [0.67939017 0.27623327 0.19861288 0.20548148]\n",
      " [0.27623327 0.88779469 0.20548148 0.67177928]\n",
      " [0.88779469 0.70786682 0.67177928 0.72766764]\n",
      " [0.70786682 0.40738597 0.72766764 0.86794151]\n",
      " [0.40738597 0.31880154 0.86794151 0.94940576]\n",
      " [0.31880154 0.62366982 0.94940576 0.57408924]\n",
      " [0.62366982 0.52629316 0.57408924 0.34056771]\n",
      " [0.19861288 0.20548148 0.16043901 0.02841533]\n",
      " [0.20548148 0.67177928 0.02841533 0.20803795]\n",
      " [0.67177928 0.72766764 0.20803795 0.16396695]\n",
      " [0.72766764 0.86794151 0.16396695 0.28622979]\n",
      " [0.86794151 0.94940576 0.28622979 0.04422877]\n",
      " [0.94940576 0.57408924 0.04422877 0.46578606]\n",
      " [0.57408924 0.34056771 0.46578606 0.28088837]\n",
      " [0.16043901 0.02841533 0.58138855 0.68392959]\n",
      " [0.02841533 0.20803795 0.68392959 0.34952271]\n",
      " [0.20803795 0.16396695 0.34952271 0.94532829]\n",
      " [0.16396695 0.28622979 0.94532829 0.9134112 ]\n",
      " [0.28622979 0.04422877 0.9134112  0.14910784]\n",
      " [0.04422877 0.46578606 0.14910784 0.0327075 ]\n",
      " [0.46578606 0.28088837 0.0327075  0.70354008]\n",
      " [0.58138855 0.68392959 0.13989748 0.51181935]\n",
      " [0.68392959 0.34952271 0.51181935 0.06181297]\n",
      " [0.34952271 0.94532829 0.06181297 0.29707818]\n",
      " [0.94532829 0.9134112  0.29707818 0.53505348]\n",
      " [0.9134112  0.14910784 0.53505348 0.99826314]\n",
      " [0.14910784 0.0327075  0.99826314 0.12847647]\n",
      " [0.0327075  0.70354008 0.12847647 0.12801574]]\n"
     ]
    }
   ],
   "source": [
    "w = np.random.randn(1,1,2,2)\n",
    "col = im2col(X,w.shape[2],w.shape[3], stride=1,pad=0)\n",
    "print(col)"
   ]
  }
 ],
 "metadata": {
  "kernelspec": {
   "display_name": "Python 3 (ipykernel)",
   "language": "python",
   "name": "python3"
  },
  "language_info": {
   "codemirror_mode": {
    "name": "ipython",
    "version": 3
   },
   "file_extension": ".py",
   "mimetype": "text/x-python",
   "name": "python",
   "nbconvert_exporter": "python",
   "pygments_lexer": "ipython3",
   "version": "3.9.7"
  }
 },
 "nbformat": 4,
 "nbformat_minor": 5
}
